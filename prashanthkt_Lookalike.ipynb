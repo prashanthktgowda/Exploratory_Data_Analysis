{
 "cells": [
  {
   "cell_type": "code",
   "execution_count": 1,
   "id": "9a8663df",
   "metadata": {},
   "outputs": [],
   "source": [
    "# Import necessary libraries\n",
    "import pandas as pd  \n",
    "import numpy as np \n",
    "    \n",
    "from sklearn.preprocessing import StandardScaler  \n",
    "from sklearn.metrics.pairwise import cosine_similarity  "
   ]
  },
  {
   "cell_type": "code",
   "execution_count": 2,
   "id": "4eb4799f",
   "metadata": {},
   "outputs": [],
   "source": [
    "# Load the datasets\n",
    "customers = pd.read_csv(\"C:\\\\Users\\\\pc\\\\OneDrive\\\\Desktop\\\\Customers.csv\")\n",
    "transactions = pd.read_csv(\"C:\\\\Users\\\\pc\\\\OneDrive\\\\Desktop\\\\Transactions.csv\")\n",
    "products = pd.read_csv(\"C:\\\\Users\\\\pc\\\\OneDrive\\\\Desktop\\\\Products.csv\")"
   ]
  },
  {
   "cell_type": "code",
   "execution_count": 3,
   "id": "528a8b6e",
   "metadata": {},
   "outputs": [],
   "source": [
    "# Convert date columns to datetime format for easier analysis\n",
    "customers['SignupDate'] = pd.to_datetime(customers['SignupDate'])  \n",
    "transactions['TransactionDate'] = pd.to_datetime(transactions['TransactionDate'])"
   ]
  },
  {
   "cell_type": "code",
   "execution_count": 4,
   "id": "2f84a45a",
   "metadata": {},
   "outputs": [],
   "source": [
    "# Merge transactions with customers on CustomerID\n",
    "transactions_customers = transactions.merge(customers, on='CustomerID', how='left')"
   ]
  },
  {
   "cell_type": "code",
   "execution_count": 5,
   "id": "e25a987f",
   "metadata": {},
   "outputs": [],
   "source": [
    "# Merge the above result with products on ProductID\n",
    "df = transactions_customers.merge(products, on='ProductID', how='left')  "
   ]
  },
  {
   "cell_type": "code",
   "execution_count": 6,
   "id": "8ed0fbe8",
   "metadata": {},
   "outputs": [],
   "source": [
    "# Create one-hot encoded columns for customer regions\n",
    "customer_region = pd.get_dummies(customers['Region'], prefix='Region') "
   ]
  },
  {
   "cell_type": "code",
   "execution_count": 7,
   "id": "6e620223",
   "metadata": {},
   "outputs": [],
   "source": [
    "# Calculate tenure (number of days since signup) for each customer\n",
    "current_date = transactions['TransactionDate'].max()  \n",
    "customers['TenureDays'] = (current_date - customers['SignupDate']).dt.days "
   ]
  },
  {
   "cell_type": "code",
   "execution_count": 8,
   "id": "6c3ae159",
   "metadata": {},
   "outputs": [],
   "source": [
    "# Calculate total spending for each customer\n",
    "customer_spending = df.groupby('CustomerID')['TotalValue'].sum().reset_index()  \n",
    "customer_spending.rename(columns={'TotalValue': 'TotalSpending'}, inplace=True)  "
   ]
  },
  {
   "cell_type": "code",
   "execution_count": 9,
   "id": "17bc27bc",
   "metadata": {},
   "outputs": [],
   "source": [
    "# Calculate average order value for each customer\n",
    "customer_avg_order = df.groupby('CustomerID')['TotalValue'].mean().reset_index()  \n",
    "customer_avg_order.rename(columns={'TotalValue': 'AvgOrderValue'}, inplace=True)  "
   ]
  },
  {
   "cell_type": "code",
   "execution_count": 10,
   "id": "0ee515cf",
   "metadata": {},
   "outputs": [],
   "source": [
    "# Calculate the number of transactions for each customer\n",
    "customer_frequency = df.groupby('CustomerID')['TransactionID'].nunique().reset_index()  \n",
    "customer_frequency.rename(columns={'TransactionID': 'NumTransactions'}, inplace=True)  "
   ]
  },
  {
   "cell_type": "code",
   "execution_count": 11,
   "id": "28f5b484",
   "metadata": {},
   "outputs": [],
   "source": [
    "# Determine the favorite product category for each customer\n",
    "favorite_category = df.groupby(['CustomerID', 'Category'])['Quantity'].sum().reset_index()  \n",
    "favorite_category = favorite_category.loc[favorite_category.groupby('CustomerID')['Quantity'].idxmax()]  \n",
    "favorite_category = favorite_category[['CustomerID', 'Category']]  "
   ]
  },
  {
   "cell_type": "code",
   "execution_count": 12,
   "id": "42e50132",
   "metadata": {},
   "outputs": [],
   "source": [
    "# One-hot encode the favorite category\n",
    "favorite_category_encoded = pd.get_dummies(favorite_category['Category'], prefix='FavCat')  \n",
    "favorite_category = pd.concat([favorite_category['CustomerID'], favorite_category_encoded], axis=1)  "
   ]
  },
  {
   "cell_type": "code",
   "execution_count": 13,
   "id": "3d5f4adf",
   "metadata": {},
   "outputs": [],
   "source": [
    "# Calculate recency (number of days since the last purchase) for each customer\n",
    "last_purchase = df.groupby('CustomerID')['TransactionDate'].max().reset_index()  \n",
    "last_purchase['RecencyDays'] = (current_date - last_purchase['TransactionDate']).dt.days  \n",
    "last_purchase = last_purchase[['CustomerID', 'RecencyDays']]  "
   ]
  },
  {
   "cell_type": "code",
   "execution_count": 14,
   "id": "5797b8c5",
   "metadata": {},
   "outputs": [],
   "source": [
    "# Start building the customer features dataframe\n",
    "customer_features = customers[['CustomerID']]  "
   ]
  },
  {
   "cell_type": "code",
   "execution_count": 15,
   "id": "08a6e92a",
   "metadata": {},
   "outputs": [],
   "source": [
    "# Merge customer features with one-hot encoded regions\n",
    "customer_features = customer_features.merge(customer_region, left_index=True, right_index=True)"
   ]
  },
  {
   "cell_type": "code",
   "execution_count": 16,
   "id": "cf1bacb6",
   "metadata": {},
   "outputs": [],
   "source": [
    "# Merge customer features with tenure days\n",
    "customer_features = customer_features.merge(customers[['CustomerID', 'TenureDays']], on='CustomerID', how='left') "
   ]
  },
  {
   "cell_type": "code",
   "execution_count": 17,
   "id": "f6ffe0c7",
   "metadata": {},
   "outputs": [],
   "source": [
    "# Merge customer features with total spending, average order value, and number of transactions\n",
    "customer_features = customer_features.merge(customer_spending, on='CustomerID', how='left')  \n",
    "customer_features = customer_features.merge(customer_avg_order, on='CustomerID', how='left')  \n",
    "customer_features = customer_features.merge(customer_frequency, on='CustomerID', how='left')  \n",
    "customer_features = customer_features.merge(last_purchase, on='CustomerID', how='left')"
   ]
  },
  {
   "cell_type": "code",
   "execution_count": 18,
   "id": "f905d4ef",
   "metadata": {},
   "outputs": [],
   "source": [
    "# Merge customer features with recency days\n",
    "customer_features = customer_features.merge(favorite_category, on='CustomerID', how='left') "
   ]
  },
  {
   "cell_type": "code",
   "execution_count": 19,
   "id": "1d07c501",
   "metadata": {},
   "outputs": [],
   "source": [
    "# Fill NaN values with 0 (for customers with no transactions or missing data)\n",
    "customer_features.fillna(0, inplace=True) "
   ]
  },
  {
   "cell_type": "code",
   "execution_count": 20,
   "id": "f5a2ccc0",
   "metadata": {},
   "outputs": [],
   "source": [
    "# Standardize numerical features (scaling to mean=0 and std=1)\n",
    "numerical_cols = ['TenureDays', 'TotalSpending', 'AvgOrderValue', 'NumTransactions', 'RecencyDays']  \n",
    "scaler = StandardScaler()  \n",
    "customer_features[numerical_cols] = scaler.fit_transform(customer_features[numerical_cols])  "
   ]
  },
  {
   "cell_type": "code",
   "execution_count": 21,
   "id": "eec84dc6",
   "metadata": {},
   "outputs": [],
   "source": [
    "# Prepare the data for similarity calculation\n",
    "customer_ids = customer_features['CustomerID']  \n",
    "features = customer_features.drop('CustomerID', axis=1)  "
   ]
  },
  {
   "cell_type": "code",
   "execution_count": 22,
   "id": "2140a1f9",
   "metadata": {},
   "outputs": [],
   "source": [
    "# Calculate cosine similarity between customers\n",
    "similarity_matrix = cosine_similarity(features)"
   ]
  },
  {
   "cell_type": "code",
   "execution_count": 23,
   "id": "3923aa97",
   "metadata": {},
   "outputs": [],
   "source": [
    "# Create mappings between customer indices and IDs\n",
    "customer_index_to_id = dict(zip(range(len(customer_ids)), customer_ids))  \n",
    "customer_id_to_index = dict(zip(customer_ids, range(len(customer_ids))))  "
   ]
  },
  {
   "cell_type": "code",
   "execution_count": 24,
   "id": "f936da77",
   "metadata": {},
   "outputs": [],
   "source": [
    "# Define the number of similar customers to recommend\n",
    "top_n = 3  \n",
    "lookalikes = {}  "
   ]
  },
  {
   "cell_type": "code",
   "execution_count": 25,
   "id": "e2f0d283",
   "metadata": {},
   "outputs": [],
   "source": [
    "# Define the target customers (first 20 customers: C0001 to C0020)\n",
    "target_customers = customer_ids[customer_ids.isin(['C' + str(i).zfill(4) for i in range(1, 21)])] "
   ]
  },
  {
   "cell_type": "code",
   "execution_count": 26,
   "id": "56ba7f8c",
   "metadata": {},
   "outputs": [],
   "source": [
    "# Find lookalikes for each target customer\n",
    "for cust_id in target_customers:  \n",
    "    idx = customer_id_to_index[cust_id]  \n",
    "    # Similarities for this customer  \n",
    "    sim_scores = list(enumerate(similarity_matrix[idx]))  \n",
    "    # Exclude the customer themselves  \n",
    "    sim_scores = [(i, score) for i, score in sim_scores if i != idx]  \n",
    "    # Sort by similarity score in descending order  \n",
    "    sim_scores.sort(key=lambda x: x[1], reverse=True)  \n",
    "    # Get top N similar customers  \n",
    "    top_similar = sim_scores[:top_n]  \n",
    "    # Map indices back to customer IDs and round similarity scores  \n",
    "    lookalike_list = [(customer_index_to_id[i], round(score, 4)) for i, score in top_similar]  \n",
    "    lookalikes[cust_id] = lookalike_list  "
   ]
  },
  {
   "cell_type": "code",
   "execution_count": 27,
   "id": "d7738029",
   "metadata": {},
   "outputs": [],
   "source": [
    "# Prepare the lookalike data for saving to a CSV file\n",
    "lookalike_data = []  \n",
    "for cust_id, similars in lookalikes.items():  \n",
    "    # Create a string representation of the list of tuples  \n",
    "    similars_str = str(similars)  \n",
    "    lookalike_data.append({'CustomerID': cust_id, 'Lookalikes': similars_str})  "
   ]
  },
  {
   "cell_type": "code",
   "execution_count": 28,
   "id": "8e7e0de4",
   "metadata": {},
   "outputs": [],
   "source": [
    "# Convert the lookalike data to a DataFrame\n",
    "lookalike_df = pd.DataFrame(lookalike_data)  "
   ]
  },
  {
   "cell_type": "code",
   "execution_count": 29,
   "id": "dd480b15",
   "metadata": {},
   "outputs": [],
   "source": [
    "# Save the lookalike recommendations to a CSV file\n",
    "lookalike_df.to_csv('Lookalike.csv', index=False)  "
   ]
  },
  {
   "cell_type": "code",
   "execution_count": null,
   "id": "a9697d8a",
   "metadata": {},
   "outputs": [],
   "source": []
  }
 ],
 "metadata": {
  "kernelspec": {
   "display_name": "Python 3",
   "language": "python",
   "name": "python3"
  },
  "language_info": {
   "codemirror_mode": {
    "name": "ipython",
    "version": 3
   },
   "file_extension": ".py",
   "mimetype": "text/x-python",
   "name": "python",
   "nbconvert_exporter": "python",
   "pygments_lexer": "ipython3",
   "version": "3.8.8"
  }
 },
 "nbformat": 4,
 "nbformat_minor": 5
}
